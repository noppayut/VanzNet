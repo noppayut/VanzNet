{
 "cells": [
  {
   "cell_type": "code",
   "execution_count": 1,
   "metadata": {},
   "outputs": [],
   "source": [
    "from bs4 import BeautifulSoup as bs"
   ]
  },
  {
   "cell_type": "code",
   "execution_count": 5,
   "metadata": {},
   "outputs": [],
   "source": [
    "raw_file_name = 'raw_data/vanzhtml'\n",
    "no = 3\n",
    "format = '.html'"
   ]
  },
  {
   "cell_type": "code",
   "execution_count": 3,
   "metadata": {},
   "outputs": [],
   "source": [
    "import string\n",
    "def is_english_name(name):\n",
    "    engchar = string.ascii_letters\n",
    "    return name[0] in engchar"
   ]
  },
  {
   "cell_type": "code",
   "execution_count": 8,
   "metadata": {},
   "outputs": [],
   "source": [
    "extracted_names = []\n",
    "for i in range(1, no+1):\n",
    "    file_name = raw_file_name + str(i) + format\n",
    "    with open(file_name, 'r') as f:\n",
    "        html_doc = f.read()\n",
    "    soup = bs(html_doc, 'html.parser')\n",
    "    objs = soup.find_all('a')\n",
    "    for obj in objs:\n",
    "        name = obj.get('title')\n",
    "        if not (name is None) and not is_english_name(name):\n",
    "            extracted_names.append(name)    "
   ]
  },
  {
   "cell_type": "code",
   "execution_count": 14,
   "metadata": {},
   "outputs": [
    {
     "name": "stdout",
     "output_type": "stream",
     "text": [
      "4656\n",
      "['เดอะแม็กถิก ก. เกมส์', 'บอ.บัง กร๊อบกรอบ', 'ปกรณ์ สินธุเจริญ', \"ต้น'น ดก'ก\", 'รักแต่ตัว หัวใจไม่เกี่ยว', 'ก้อรถทัวร์ไง จะใครล่ะ', 'น้อยกอล์ฟ วรวุฑ', \"ป๋า'่าอ้น กระดอร์ซิ่ง\", 'ขนม ไทย', 'จิณณวัตร ฟาร์ม']\n"
     ]
    }
   ],
   "source": [
    "print(len(extracted_names))\n",
    "extracted_names_unique = list(set(extracted_names))\n",
    "print(extracted_names_unique[:10])"
   ]
  },
  {
   "cell_type": "code",
   "execution_count": 15,
   "metadata": {},
   "outputs": [],
   "source": [
    "outfile = 'vanznames.txt'"
   ]
  },
  {
   "cell_type": "code",
   "execution_count": 16,
   "metadata": {},
   "outputs": [],
   "source": [
    "with open(outfile, 'w') as f:\n",
    "    for name in extracted_names_unique:\n",
    "        f.write(name + '\\n')"
   ]
  },
  {
   "cell_type": "code",
   "execution_count": null,
   "metadata": {},
   "outputs": [],
   "source": []
  }
 ],
 "metadata": {
  "kernelspec": {
   "display_name": "Python 3",
   "language": "python",
   "name": "python3"
  },
  "language_info": {
   "codemirror_mode": {
    "name": "ipython",
    "version": 3
   },
   "file_extension": ".py",
   "mimetype": "text/x-python",
   "name": "python",
   "nbconvert_exporter": "python",
   "pygments_lexer": "ipython3",
   "version": "3.7.2"
  }
 },
 "nbformat": 4,
 "nbformat_minor": 2
}
