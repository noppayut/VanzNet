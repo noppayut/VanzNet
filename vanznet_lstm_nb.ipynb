{
 "cells": [
  {
   "cell_type": "code",
   "execution_count": 1,
   "metadata": {},
   "outputs": [],
   "source": [
    "import torch\n",
    "import torch.nn as nn"
   ]
  },
  {
   "cell_type": "code",
   "execution_count": 2,
   "metadata": {},
   "outputs": [],
   "source": [
    "filepath = 'vanznames.txt'"
   ]
  },
  {
   "cell_type": "code",
   "execution_count": 3,
   "metadata": {},
   "outputs": [],
   "source": [
    "with open(filepath, 'r') as f:\n",
    "    names_raw = list(map(lambda x: x.replace('\\n', ''), f.readlines()))\n",
    "    \n",
    "all_letters = ['<SOS>'] + list(set(\"\".join(names_raw))) + ['<EOS>']\n",
    "n_letters = len(all_letters)\n",
    "sos_idx = 0\n",
    "eos_idx = n_letters - 1\n",
    "                \n",
    "def encode_name(name):\n",
    "    return [sos_idx] + [all_letters.index(s) for s in name] + [eos_idx]\n",
    "\n",
    "names_enc = [encode_name(name) for name in names_raw]"
   ]
  },
  {
   "cell_type": "code",
   "execution_count": 4,
   "metadata": {},
   "outputs": [
    {
     "name": "stdout",
     "output_type": "stream",
     "text": [
      "160\n",
      "[0, 129, 124, 62, 140, 143, 65, 128, 118, 9, 126, 118, 155, 118, 47, 155, 129, 118, 65, 123, 75, 159]\n"
     ]
    }
   ],
   "source": [
    "print(n_letters)\n",
    "print(names_enc[0])"
   ]
  },
  {
   "cell_type": "code",
   "execution_count": 5,
   "metadata": {},
   "outputs": [],
   "source": [
    "# define network\n",
    "class VanzNet(nn.Module):\n",
    "    def __init__(self, n_letters, n_dim, hidden_size, dor=0.15, bid=False):\n",
    "        super(VanzNet, self).__init__()\n",
    "        self.hidden_size = hidden_size\n",
    "        self.emb = nn.Embedding(n_letters, n_dim)\n",
    "        self.lstm = nn.LSTM(n_dim, hidden_size, num_layers=2\n",
    "                            , dropout=dor, bidirectional=bid)\n",
    "        if bid:\n",
    "            input_mult = 2\n",
    "        else:\n",
    "            input_mult = 1\n",
    "        \n",
    "        self.lstm2o = nn.Linear(hidden_size*input_mult, n_letters)\n",
    "    \n",
    "    def forward(self, src, h=None, c=None):\n",
    "        src_emb = self.emb(src)\n",
    "        if (h is not None) and (c is not None):\n",
    "            output_lstm, (h_out, c_out) = self.lstm(src_emb, (h, c))\n",
    "        else:\n",
    "            output_lstm, (h_out, c_out) = self.lstm(src_emb)\n",
    "        output_fc = self.lstm2o(output_lstm)\n",
    "        return output_fc, h_out, c_out"
   ]
  },
  {
   "cell_type": "code",
   "execution_count": 6,
   "metadata": {},
   "outputs": [],
   "source": [
    "# one-hot matrix for characters\n",
    "def name2input(name_str):\n",
    "    return torch.LongTensor(encode_name(name_str)[:-1]).view(-1, 1)\n",
    "\n",
    "def name2target(name_enc):\n",
    "    \"\"\"\n",
    "    dim: [len_name]\n",
    "    e.g. target(KASPAROV) -> ASPAROV<EOS> -> [Idx(A), Idx(S), ..., Idx(EOS)]\n",
    "    \"\"\"\n",
    "    return torch.LongTensor(name_enc[1:] + [n_letters - 1])"
   ]
  },
  {
   "cell_type": "code",
   "execution_count": 7,
   "metadata": {},
   "outputs": [],
   "source": [
    "hidden_size = 64\n",
    "n_dim = 32\n",
    "rnn = VanzNet(n_letters, n_dim, hidden_size)"
   ]
  },
  {
   "cell_type": "code",
   "execution_count": 26,
   "metadata": {},
   "outputs": [],
   "source": [
    "def reconstruct_char(output):\n",
    "    idx = output.argmax(2)[-1, 0]\n",
    "    # print(idx)\n",
    "    if idx == n_letters - 1:\n",
    "        # return all_letters[topi[0][0][1].item()]\n",
    "        return 'EOS'\n",
    "    else:\n",
    "        return all_letters[idx]\n",
    "\n",
    "def sample_name(model, start_char):\n",
    "    model.eval()\n",
    "    name_sample = start_char\n",
    "    if not (start_char[0] in all_letters):\n",
    "        return \"Invalid start character!\"\n",
    "    else:\n",
    "        input_tensor = name2input(start_char)\n",
    "        out_char = \"\"\n",
    "        h = None\n",
    "        c = None\n",
    "        # print(type(input_tensor))\n",
    "        while True and len(name_sample) < 40:\n",
    "            output, _, _ = model(input_tensor)\n",
    "            out_char = reconstruct_char(output)\n",
    "            if out_char == 'EOS':\n",
    "                break\n",
    "            name_sample += out_char\n",
    "            input_tensor = name2input(name_sample)\n",
    "    \n",
    "    return name_sample"
   ]
  },
  {
   "cell_type": "code",
   "execution_count": 9,
   "metadata": {},
   "outputs": [
    {
     "data": {
      "text/plain": [
       "'กយyyyyyyyyyyyyyyyyyy'"
      ]
     },
     "execution_count": 9,
     "metadata": {},
     "output_type": "execute_result"
    }
   ],
   "source": [
    "sample_name(rnn, 'ก')"
   ]
  },
  {
   "cell_type": "code",
   "execution_count": 10,
   "metadata": {},
   "outputs": [],
   "source": [
    "lr = 1e-3\n",
    "epochs = 200\n",
    "print_every = 5\n",
    "max_training_size = -1\n",
    "lr_decay_step = 30\n",
    "lr_decay_rate = 0.95"
   ]
  },
  {
   "cell_type": "code",
   "execution_count": 11,
   "metadata": {},
   "outputs": [],
   "source": [
    "if max_training_size > 0:\n",
    "    names_train = names_enc[:max_training_size]\n",
    "else:\n",
    "    names_train = names_enc\n",
    "\n",
    "criterion = nn.CrossEntropyLoss()\n",
    "optim = torch.optim.Adam(rnn.parameters(), lr=lr)\n",
    "\n",
    "scheduler = torch.optim.lr_scheduler.StepLR(optim\n",
    "                                            , lr_decay_step\n",
    "                                            , lr_decay_rate)"
   ]
  },
  {
   "cell_type": "code",
   "execution_count": 12,
   "metadata": {},
   "outputs": [],
   "source": [
    "import time\n",
    "import random"
   ]
  },
  {
   "cell_type": "code",
   "execution_count": 13,
   "metadata": {},
   "outputs": [
    {
     "name": "stdout",
     "output_type": "stream",
     "text": [
      "5/200: Loss 5408.666836, 27.82 sec\n",
      "กา' เอ็ก\n",
      "คน' เดียว\n",
      "10/200: Loss 4705.320850, 28.30 sec\n",
      "กระพันธ์ เทืองเดิน\n",
      "คน เอ็ม\n",
      "15/200: Loss 4222.370506, 28.03 sec\n",
      "กู เอ เอ เอ เอ เอ เอ\n",
      "คน เมือง\n",
      "20/200: Loss 3840.574968, 28.36 sec\n",
      "กิตติ พิมมันทร์\n",
      "คน' เด็กกรุ่ง\n",
      "25/200: Loss 3536.840122, 28.41 sec\n",
      "กิตติพัฒน์ นวรรณ์\n",
      "คนเดียว ร้าย'ยย\n",
      "30/200: Loss 3298.723572, 28.69 sec\n",
      "กรูส์ เมียก\n",
      "คนเก้า หมู\n",
      "35/200: Loss 3066.283795, 28.90 sec\n",
      "กู เอ  คนเดิม\n",
      "คน'นิน สาย'ย่อย\n",
      "40/200: Loss 2905.739683, 28.97 sec\n",
      "กรกฤต เรืองรักษ์\n",
      "คน บ้านนอก\n",
      "45/200: Loss 2765.450769, 28.67 sec\n",
      "กู เจ๋ง\n",
      "คน บ้านนอก\n",
      "50/200: Loss 2662.130733, 28.15 sec\n",
      "กรุณา มูน\n",
      "คนเดิ น๋นน\n",
      "55/200: Loss 2566.526863, 28.71 sec\n",
      "กรกฤต เรืองรักษ์\n",
      "คน' ก.\n",
      "60/200: Loss 2484.940969, 28.39 sec\n",
      "กรกฤต บัวเพ็ชเเยบ\n",
      "คน บ้า\n",
      "65/200: Loss 2390.897033, 28.18 sec\n",
      "กรวินท์ สมบุญ\n",
      "คน บ้านกลาง\n",
      "70/200: Loss 2316.651729, 28.25 sec\n",
      "กรุอบ น้ำพาไต\n",
      "คน บ้านนอก\n",
      "75/200: Loss 2284.672038, 28.81 sec\n",
      "กู เจ๋ง\n",
      "คน' กู\n",
      "80/200: Loss 2232.646546, 30.82 sec\n",
      "กิตติพร วิญญา\n",
      "คน บ้า บ้าตาก\n",
      "85/200: Loss 2195.488115, 28.26 sec\n",
      "กรูส์ เฉย เฉย\n",
      "คน บ้านนอก\n",
      "90/200: Loss 2168.814638, 28.15 sec\n",
      "กูเต้ ออย เด็ก สองณ\n",
      "คน บ้านกลาง\n",
      "95/200: Loss 2093.362887, 28.21 sec\n",
      "กรุณา เมืองตาก\n",
      "คน บ้านกลาง\n",
      "100/200: Loss 2067.697735, 28.18 sec\n",
      "กรวินท์ สีบ้วกับ\n",
      "คน บ้านกลาง\n",
      "105/200: Loss 2019.485263, 28.20 sec\n",
      "กิตติศักดิ์ นวนจันทร\n",
      "คน บ้านอล\n",
      "110/200: Loss 2027.789814, 28.20 sec\n",
      "กรุณา อุ่มเรืองลั่น\n",
      "ความจรี บี กา ลูกเพ็\n",
      "115/200: Loss 1994.600185, 28.21 sec\n",
      "กรุณา เทพนิกร\n",
      "คุณ ใหม่ เสมอ\n",
      "120/200: Loss 1971.852391, 29.05 sec\n",
      "กรกนก เกตุทอง\n",
      "คน'นับ ยางไม่หูลลิ้ด\n",
      "125/200: Loss 1925.603983, 28.20 sec\n",
      "กิตติ เพ็ชลัน\n",
      "คน บ้านนอก\n",
      "130/200: Loss 1909.052653, 28.33 sec\n",
      "กิ๊บบ ' ลู มี\n",
      "คิตตี้' สีฟ้า\n",
      "135/200: Loss 1893.765482, 28.18 sec\n",
      "กูเต้ ออโด้\n",
      "คนเดิม เดินดิน\n",
      "140/200: Loss 1868.664081, 28.24 sec\n",
      "กรูยนา ป้องการวี\n",
      "คน บ้านกลาง\n",
      "145/200: Loss 1866.583227, 28.20 sec\n",
      "กิตติศักดิ์ บุญมา\n",
      "คน บ้านกลาง\n",
      "150/200: Loss 1851.364841, 28.31 sec\n",
      "กรกฤต ชิตรชาตุก\n",
      "คนหล่อ ซานั้น รักโพท\n",
      "155/200: Loss 1807.393071, 28.53 sec\n",
      "กา' รอดถ\n",
      "คน บ้า ป่า\n",
      "160/200: Loss 1803.525642, 29.88 sec\n",
      "กรุณา เยื้อยัย\n",
      "คน บ้านกลาง\n",
      "165/200: Loss 1785.739750, 29.06 sec\n",
      "กรู แบงค์ แร้วงัย\n",
      "คุนชาย สุขวนใจ\n",
      "170/200: Loss 1769.252205, 29.46 sec\n",
      "กา' เก๋\n",
      "คน บ้า ป่า\n",
      "175/200: Loss 1764.389920, 29.39 sec\n",
      "กา' จอปกก\n",
      "คน บ้านกลาง\n",
      "180/200: Loss 1742.033890, 29.49 sec\n",
      "กรุณา เทพน์\n",
      "คน บ้า ชูชนอิน\n",
      "185/200: Loss 1703.416727, 30.07 sec\n",
      "กิตติ เพ็ชชิ่ง\n",
      "คนเดินถนน คนนึง\n",
      "190/200: Loss 1694.907362, 29.17 sec\n",
      "กิ๊ก' กก\n",
      "คน บ้า ป่า\n",
      "195/200: Loss 1678.438325, 29.31 sec\n",
      "กูเหี่ย แล้วไง\n",
      "คน บ้า ป่า\n",
      "200/200: Loss 1667.371168, 29.41 sec\n",
      "กู เจ๋ง\n",
      "คนชั่วคราว พระเมืองต\n"
     ]
    }
   ],
   "source": [
    "losses = []\n",
    "for epoch in range(epochs):\n",
    "    loss_epoch = 0\n",
    "    epoch_start = time.time()\n",
    "    for name in names_train:\n",
    "        input_tensor = torch.LongTensor(name[:-1]).view(-1, 1)\n",
    "        # target_tensor = name2target(name)\n",
    "        target_tensor = torch.LongTensor(name[1:])\n",
    "        optim.zero_grad()\n",
    "        \n",
    "        output, _, _ = rnn(input_tensor)\n",
    "        # print(output.shape, target_tensor.shape)\n",
    "        loss = criterion(output.view(-1, n_letters), target_tensor)\n",
    "        loss.backward()\n",
    "        optim.step()\n",
    "        loss_epoch += loss.item()\n",
    "    \n",
    "    epoch_end = time.time()\n",
    "    scheduler.step()\n",
    "    losses.append(loss_epoch / len(names_train))\n",
    "    random.shuffle(names_train)\n",
    "    if (epoch + 1) % print_every == 0:\n",
    "        print(\"%d/%d: Loss %f, %.2f sec\" % (epoch+1, epochs, loss_epoch, epoch_end-epoch_start))\n",
    "        print(sample_name(rnn, 'ก'))\n",
    "        print(sample_name(rnn, 'ค'))\n",
    "        # print(output.topk(1)[1])\n",
    "        # print(target_tensor)\n",
    "        # print(\"----------------\")"
   ]
  },
  {
   "cell_type": "code",
   "execution_count": 14,
   "metadata": {},
   "outputs": [
    {
     "name": "stdout",
     "output_type": "stream",
     "text": [
      "กู เจ๋ง\n",
      "คนชั่วคราว พระเมืองต\n",
      "มอส คุง\n",
      "จิระพันธ์ รุงทรงทอง\n",
      "วิมร้า ไมทฑวงคม\n",
      "รักเดียว 'ยิ้ง หนหนห\n",
      "บอล อังกฤษ\n"
     ]
    }
   ],
   "source": [
    "start_letters = ['ก', 'ค', 'ม', 'จ', 'ว', 'ร', 'บ']\n",
    "# start_letters = all_letters\n",
    "\n",
    "with torch.no_grad():\n",
    "    for sp in start_letters:\n",
    "        print(sample_name(rnn, sp))"
   ]
  },
  {
   "cell_type": "code",
   "execution_count": 35,
   "metadata": {},
   "outputs": [
    {
     "name": "stdout",
     "output_type": "stream",
     "text": [
      "บอย กลับ' ต้า\n",
      "ฟ้า เถื่อนน\n",
      "ลุงพ์ เทพนัน\n",
      "จอน จัด\n",
      "เต้ย จัดหั้ย\n",
      "โอ๊ต หนองใหล่สับ\n",
      "โอ คนเดิม นะครับ\n",
      "เอิร์ธ' เก่ง\n"
     ]
    }
   ],
   "source": [
    "start_letters = ['บอย', 'ฟ้า', 'ลุง', 'จอน', 'เต้ย', 'โอ๊ต', 'โอ ', 'เอิร์ธ']\n",
    "# start_letters = all_letters\n",
    "\n",
    "with torch.no_grad():\n",
    "    for sp in start_letters:\n",
    "        print(sample_name(rnn, sp))"
   ]
  },
  {
   "cell_type": "code",
   "execution_count": null,
   "metadata": {},
   "outputs": [],
   "source": []
  }
 ],
 "metadata": {
  "kernelspec": {
   "display_name": "Python 3",
   "language": "python",
   "name": "python3"
  },
  "language_info": {
   "codemirror_mode": {
    "name": "ipython",
    "version": 3
   },
   "file_extension": ".py",
   "mimetype": "text/x-python",
   "name": "python",
   "nbconvert_exporter": "python",
   "pygments_lexer": "ipython3",
   "version": "3.7.2"
  }
 },
 "nbformat": 4,
 "nbformat_minor": 2
}
